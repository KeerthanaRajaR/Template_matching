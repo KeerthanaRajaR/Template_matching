{
 "cells": [
  {
   "cell_type": "code",
   "execution_count": null,
   "id": "a398dcb2-1860-4bf0-8ebe-51f9210b5624",
   "metadata": {},
   "outputs": [],
   "source": [
    "import cv2\n",
    "import numpy as np\n",
    "\n",
    "# Load images\n",
    "full_image = cv2.imread(r\"C:\\Users\\Keerthana R\\Pictures\\Saved Pictures\\New folder\\full_image.png\")\n",
    "block = cv2.imread(r\"C:\\Users\\Keerthana R\\Pictures\\Saved Pictures\\New folder\\block.png\")\n",
    "\n",
    "# Convert both images to grayscale (since template matching works better in grayscale)\n",
    "full_image_gray = cv2.cvtColor(full_image, cv2.COLOR_BGR2GRAY)\n",
    "block_gray = cv2.cvtColor(block, cv2.COLOR_BGR2GRAY)\n",
    "\n",
    "# Perform template matching\n",
    "result = cv2.matchTemplate(full_image_gray, block_gray, cv2.TM_CCOEFF_NORMED)\n",
    "\n",
    "# Find the location with the highest similarity\n",
    "min_val, max_val, min_loc, max_loc = cv2.minMaxLoc(result)\n",
    "\n",
    "# Draw a rectangle around the matched region in the full image\n",
    "h, w = block_gray.shape\n",
    "top_left = max_loc\n",
    "bottom_right = (top_left[0] + w, top_left[1] + h)\n",
    "\n",
    "cv2.rectangle(full_image, top_left, bottom_right, (0, 255, 0), 2)\n",
    "\n",
    "# Show the result\n",
    "cv2.imshow('Detected', full_image)\n",
    "cv2.waitKey(0)\n",
    "cv2.destroyAllWindows()\n",
    "\n",
    "# Optionally, you can print the coordinates of the top-left corner\n",
    "print(f\"Block found at location: {top_left}\")\n"
   ]
  },
  {
   "cell_type": "code",
   "execution_count": null,
   "id": "09ee01f4-2472-4d02-91ee-bc6b213c05b6",
   "metadata": {},
   "outputs": [],
   "source": []
  }
 ],
 "metadata": {
  "kernelspec": {
   "display_name": "Python 3 (ipykernel)",
   "language": "python",
   "name": "python3"
  },
  "language_info": {
   "codemirror_mode": {
    "name": "ipython",
    "version": 3
   },
   "file_extension": ".py",
   "mimetype": "text/x-python",
   "name": "python",
   "nbconvert_exporter": "python",
   "pygments_lexer": "ipython3",
   "version": "3.11.7"
  }
 },
 "nbformat": 4,
 "nbformat_minor": 5
}
